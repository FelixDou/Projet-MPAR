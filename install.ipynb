{
 "cells": [
  {
   "attachments": {},
   "cell_type": "markdown",
   "metadata": {},
   "source": [
    "### Problème pour les prints et les input sous VSCode, il faut ouvrir le notebook avec jupyter directement (dès fois ça marche quand même sous VS Code)"
   ]
  },
  {
   "attachments": {},
   "cell_type": "markdown",
   "metadata": {},
   "source": [
    "> Problème réglé en mettant des time.sleep(0.5) après les input pour laisser le temps d'afficher"
   ]
  },
  {
   "cell_type": "code",
<<<<<<< Updated upstream
   "execution_count": 31,
=======
   "execution_count": 15,
>>>>>>> Stashed changes
   "metadata": {},
   "outputs": [],
   "source": [
    "import mdp\n",
    "import pickle\n",
    "import time"
   ]
  },
  {
   "cell_type": "code",
<<<<<<< Updated upstream
   "execution_count": 32,
=======
   "execution_count": 16,
>>>>>>> Stashed changes
   "metadata": {},
   "outputs": [
    {
     "name": "stdout",
     "output_type": "stream",
     "text": [
      "States: ['S0', 'S1', 'S2']\n",
<<<<<<< Updated upstream
      "Actions: ['a', 'b']\n",
=======
      "Actions: ['a', 'b', 'c', 'd']\n",
>>>>>>> Stashed changes
      "Transition from S0 with no action and targets ['S1', 'S2'] with weights [5, 5]\n",
      "Transition from S1 with action b and targets ['S1', 'S0'] with weights [2, 8]\n",
      "Transition from S1 with action a and targets ['S2', 'S0', 'S1'] with weights [1, 3, 6]\n",
      "Transition from S2 with action c and targets ['S0', 'S1'] with weights [5, 5]\n",
<<<<<<< Updated upstream
      "{'States': ['S0', 'S1', 'S2'], 'Actions': ['a', 'b'], 'Transitions_with_action': {1: {'from': 'S1', 'action': 'b', 'targets': ['S1', 'S0'], 'weights': [2, 8]}, 2: {'from': 'S1', 'action': 'a', 'targets': ['S2', 'S0', 'S1'], 'weights': [1, 3, 6]}, 3: {'from': 'S2', 'action': 'c', 'targets': ['S0', 'S1'], 'weights': [5, 5]}}, 'Transitions_without_action': {0: {'from': 'S0', 'targets': ['S1', 'S2'], 'weights': [5, 5]}}}\n"
=======
      "{'States': ['S0', 'S1', 'S2'], 'Actions': ['a', 'b', 'c', 'd'], 'Transitions_with_action': {1: {'from': 'S1', 'action': 'b', 'targets': ['S1', 'S0'], 'weights': [2, 8]}, 2: {'from': 'S1', 'action': 'a', 'targets': ['S2', 'S0', 'S1'], 'weights': [1, 3, 6]}, 3: {'from': 'S2', 'action': 'c', 'targets': ['S0', 'S1'], 'weights': [5, 5]}}, 'Transitions_without_action': {0: {'from': 'S0', 'targets': ['S1', 'S2'], 'weights': [5, 5]}}}\n"
>>>>>>> Stashed changes
     ]
    }
   ],
   "source": [
    "! python mdp.py < ex.mdp\n",
    "# ! python mdp.py < chaine_1.mdp\n",
    "# ! python mdp.py < ex_erreur.mdp"
   ]
  },
  {
   "cell_type": "code",
<<<<<<< Updated upstream
   "execution_count": 33,
=======
   "execution_count": 17,
>>>>>>> Stashed changes
   "metadata": {},
   "outputs": [
    {
     "name": "stdout",
     "output_type": "stream",
     "text": [
<<<<<<< Updated upstream
      "Données récupérées {'States': ['S0', 'S1', 'S2'], 'Actions': ['a', 'b'], 'Transitions_with_action': {1: {'from': 'S1', 'action': 'b', 'targets': ['S1', 'S0'], 'weights': [2, 8]}, 2: {'from': 'S1', 'action': 'a', 'targets': ['S2', 'S0', 'S1'], 'weights': [1, 3, 6]}, 3: {'from': 'S2', 'action': 'c', 'targets': ['S0', 'S1'], 'weights': [5, 5]}}, 'Transitions_without_action': {0: {'from': 'S0', 'targets': ['S1', 'S2'], 'weights': [5, 5]}}}\n"
=======
      "Données récupérées {'States': ['S0', 'S1', 'S2'], 'Actions': ['a', 'b', 'c', 'd'], 'Transitions_with_action': {1: {'from': 'S1', 'action': 'b', 'targets': ['S1', 'S0'], 'weights': [2, 8]}, 2: {'from': 'S1', 'action': 'a', 'targets': ['S2', 'S0', 'S1'], 'weights': [1, 3, 6]}, 3: {'from': 'S2', 'action': 'c', 'targets': ['S0', 'S1'], 'weights': [5, 5]}}, 'Transitions_without_action': {0: {'from': 'S0', 'targets': ['S1', 'S2'], 'weights': [5, 5]}}}\n"
>>>>>>> Stashed changes
     ]
    }
   ],
   "source": [
    "# On lit le .pickle des données que l'on souhaitent récupérer\n",
    "\n",
    "# Read list to memory\n",
    "def read_list(nom_liste):\n",
    "    # for reading also binary mode is important\n",
    "    with open(nom_liste, 'rb') as fp:\n",
    "        liste = pickle.load(fp)\n",
    "        return liste\n",
    "\n",
    "L = read_list(\"liste_donnees\")\n",
    "print('Données récupérées', L)"
   ]
  },
  {
   "cell_type": "code",
<<<<<<< Updated upstream
   "execution_count": 34,
=======
   "execution_count": 18,
>>>>>>> Stashed changes
   "metadata": {},
   "outputs": [
    {
     "name": "stdout",
     "output_type": "stream",
     "text": [
      "States: ['S0', 'S1', 'S2']\n",
<<<<<<< Updated upstream
      "Actions: ['a', 'b']\n",
=======
      "Actions: ['a', 'b', 'c', 'd']\n",
>>>>>>> Stashed changes
      "Transition with action: {'from': 'S1', 'action': 'b', 'targets': ['S1', 'S0'], 'weights': [2, 8]}\n",
      "Transition with action: {'from': 'S1', 'action': 'a', 'targets': ['S2', 'S0', 'S1'], 'weights': [1, 3, 6]}\n",
      "Transition with action: {'from': 'S2', 'action': 'c', 'targets': ['S0', 'S1'], 'weights': [5, 5]}\n",
      "Transition without action: {'from': 'S0', 'targets': ['S1', 'S2'], 'weights': [5, 5]}\n"
     ]
    }
   ],
   "source": [
    "print('States:', L['States'])\n",
    "print('Actions:', L['Actions'])\n",
    "for transitions in L['Transitions_with_action']:\n",
    "    print('Transition with action' ':', L['Transitions_with_action'][transitions])\n",
    "for transitions in L['Transitions_without_action']:\n",
    "    print('Transition without action' ':', L['Transitions_without_action'][transitions])"
   ]
  },
  {
   "cell_type": "code",
<<<<<<< Updated upstream
   "execution_count": 49,
=======
   "execution_count": 19,
>>>>>>> Stashed changes
   "metadata": {},
   "outputs": [],
   "source": [
    "import numpy as np\n",
    "import random\n",
    "\n",
    "class States():\n",
    "    def __init__(self, state, id,transitions_with_action, transitions_without_action):\n",
    "        \"\"\"\n",
    "        Initialisation des états de la chaine de markov\n",
    "        \n",
    "        Args\n",
    "        ----\n",
    "        state : str\n",
    "            Nom de l'état (S0...)\n",
    "        reward : int\n",
    "            Récompense de l'état\n",
    "        transitions_with_action : dict\n",
    "            Dictionnaire de l'ensemble des transitions avec action\n",
    "        transitions_without_action : dict\n",
    "            Dictionnaire de l'ensemble des transitions sans action\n",
    "        \"\"\"\n",
    "        self.state = state\n",
    "        self.reward = 0 # récompense de l'état\n",
    "        self.transitions_without_action = {}\n",
    "        self.transitions_with_action = {}\n",
    "\n",
    "        sans_action = True # on crée ce booléen pour vérifier qu'il n'y a pas de transition avec action ensuite\n",
    "        for transition in transitions_without_action:\n",
    "            # on parcours l'ensemble des transitions\n",
    "            transi_active = transitions_without_action[transition]\n",
    "            if transi_active[\"from\"]==self.state: # on vérifie si l'état de départ est l'état actif\n",
    "                sans_action = False\n",
    "                self.transitions_without_action[\"targets\"] = transi_active[\"targets\"]\n",
    "                self.transitions_without_action[\"weights\"] = transi_active[\"weights\"]\n",
    "\n",
    "        for transition in transitions_with_action:\n",
    "            transi_active = transitions_with_action[transition]\n",
    "            if transi_active[\"from\"]==self.state and sans_action == True:\n",
    "                # les clés dans transition_with_action sont les actions et les valeurs des dict des états cibles et leurs poids\n",
    "                self.transitions_with_action[transi_active[\"action\"]] = {\"targets\" : transi_active[\"targets\"], \"weights\" : transi_active[\"weights\"]}\n",
    "            elif transi_active[\"from\"]==self.state and sans_action == False:\n",
    "                print(\"\\nWarning : l'état\", self.state, \"comporte des transitions avec et sans action\")\n",
    "                print(\"Il est donc impossible de déterminer la transition à effectuer, il faut revoir la modélisation \\n\")\n",
    "                break\n",
    "\n",
    "    def __repr__(self):\n",
    "        return (f\"State : {self.state} \\n State reward {self.reward} \\n Transitions without action : {self.transitions_without_action} \\n Transitions with action : {self.transitions_with_action}\")\n",
    "\n",
    "\n",
    "class markov():\n",
    "    def __init__(self, states, actions, transitions_with_action, transitions_without_action):\n",
    "        \"\"\"\n",
    "        Initialisation de la chaine de markov\n",
    "\n",
    "        Args\n",
    "        ----\n",
    "        states : list\n",
    "            Liste des états de la chaine (définis avec la calsse States)\n",
    "        listes_states : list\n",
    "            Liste des noms états de la chaines (avec possiblement des doublons)\n",
    "        actions : list\n",
    "            Liste des actions possibles\n",
    "        transitions_with_action : dict\n",
    "            Dictionnaire de l'ensemble des transitions avec action\n",
    "        transitions_without_action : dict\n",
    "            Dictionnaire de l'ensemble des transitions sans action\n",
    "        \"\"\"\n",
    "        self.states = {}\n",
    "        self.liste_states = states\n",
    "        self.actions = actions\n",
    "        self.transitions_with_action = transitions_with_action\n",
    "        self.transitions_without_action = transitions_without_action\n",
    "\n",
    "        for state in states:\n",
    "            self.states[f\"{state}\"] = States(state, states.index(state), transitions_with_action, transitions_without_action)\n",
    "        \n",
    "        markov.parsing(self, states) # on vérifie qu'on a pas de problèmes de parsing\n",
    "\n",
    "        print(\"Souhaitez-vous ajouter des récompenses aux états ? (y/n)\")\n",
    "        time.sleep(0.5)\n",
    "        reponse = input()\n",
    "        if reponse == \"y\":\n",
    "            for state in self.states :\n",
    "                etat = self.states[state]\n",
    "                reward = markov.affichage_etat(self, etat, reward = True)\n",
    "                etat.reward = float(reward)\n",
    "        \n",
    "    def parsing(self, states):\n",
    "        \"\"\"\n",
    "        On réalise différents tests pour vérifier que la chaine de markov (ou la MDP) est correctement définie\n",
    "\n",
    "        Args\n",
    "        ----\n",
    "        states : list\n",
    "            Liste des états de la chaines (avec possiblement des doublons)\n",
    "        \"\"\"\n",
    "        # On concatène les transitions avec et sans action pour plus de simplicité pour les test\n",
    "        Warning = False # passe à True si on a un warning\n",
    "\n",
    "        all_transitions = []\n",
    "        transitions_without_action = []\n",
    "        transitions_with_action = []\n",
    "        for elem in self.transitions_without_action:\n",
    "            transitions_without_action.append(self.transitions_without_action[elem])\n",
    "            all_transitions.append(self.transitions_without_action[elem])\n",
    "        for elem in self.transitions_with_action:\n",
    "            transitions_with_action.append(self.transitions_with_action[elem])\n",
    "            all_transitions.append(self.transitions_with_action[elem])\n",
    "\n",
    "        # On vérifie que les états déclarés sont utilisés et qu'un état utilisé dans des transitions est déclaré\n",
    "        used_states = []\n",
    "        for transitions in all_transitions:\n",
    "            if transitions[\"from\"] not in self.states:\n",
    "                print(f\"Warning : l'état {transitions['from']} est utilisé dans une transition mais n'est pas déclaré\")\n",
    "                Warning = True\n",
    "            used_states.append(transitions[\"from\"])\n",
    "            used_states.append(transitions[\"targets\"])\n",
    "            for target in transitions[\"targets\"]:\n",
    "                if target not in self.states:\n",
    "                    print(f\"Warning : l'état {target} est utilisé dans une transition mais n'est pas déclaré\")\n",
    "                    Warning = True\n",
    "        for state in self.states:\n",
    "            if state not in used_states:\n",
    "                print(f\"Warning : l'état {state} est déclaré mais n'est pas utilisé\")\n",
    "                Warning = True\n",
    "\n",
    "        # On vérifie qu'un état n'est pas déclaré plusieurs fois\n",
    "        if len(states) != len(self.states): # self.states supprime automatiquement les doublons\n",
    "            print(\"Warning : un état est déclaré plusieurs fois\")\n",
    "            Warning = True\n",
    "\n",
    "        # On vérifie qu'un état possède bien une transition de sortie\n",
    "        etats_sans_sortie = []\n",
    "        dict_etats = self.states\n",
    "        bool_etat_sans_sortie = False\n",
    "        for state in dict_etats:\n",
    "            if dict_etats[state].transitions_without_action == {} and dict_etats[state].transitions_with_action == {}:\n",
    "                etats_sans_sortie.append(state)\n",
    "                bool_etat_sans_sortie = True\n",
    "        if bool_etat_sans_sortie == True:\n",
    "            print(\"Warning : les états suivants n'ont pas de transition de sortie : \", etats_sans_sortie)\n",
    "\n",
    "        # On vérifie que les actions ne sont pas déclarées plusieurs fois\n",
    "        actions_uniques = set(self.actions)\n",
    "        if len(actions_uniques) != len(self.actions):\n",
    "            print(\"Warning : une action est déclarée plusieurs fois\")\n",
    "            Warning = True\n",
    "    \n",
    "        # On vérifie qu'une action déclarée est utilisée\n",
    "        actions_utilisés = []\n",
    "        for transitions in transitions_with_action:\n",
    "            actions_utilisés.append(transitions[\"action\"])\n",
    "        actions_utilisés = set(actions_utilisés) # on enlève les doublons\n",
    "        if len(actions_utilisés) != len(self.actions):\n",
    "            print(\"Warning : une action est déclarée mais n'est pas utilisée\")\n",
    "            Warning = True\n",
    "\n",
    "        # On vérifie que les actions utilisées sont déclarées\n",
    "        for action in actions_utilisés:\n",
    "            if action not in self.actions:\n",
    "                print(f\"Warning : l'action {action} est utilisée mais n'est pas déclarée\")\n",
    "                Warning = True\n",
    "\n",
    "        if Warning :\n",
    "            print(\"\\n Écrire ok pour contiuer\")\n",
    "            print(\"-\"*25 + \"\\n\")\n",
    "            while True:\n",
    "                rep = input()\n",
    "                if rep == \"ok\":\n",
    "                    break\n",
    "            \n",
    "    def affichage_etat(self,etat_actif,choix = False, reward = False):\n",
    "        \"\"\"\n",
    "        Affiche proprement l'état actif de la chaine de markov et permet de choisir une action le cas échéant\n",
    "\n",
    "        Args\n",
    "        ----\n",
    "        etat_actif : état de la chaine de markov\n",
    "            Etat actif de la chaine de markov\n",
    "        choix : bool\n",
    "            Si on doit afficher des choix pour des actions\n",
    "        \"\"\"\n",
    "        nom = etat_actif.state\n",
    "        print(\"-\"*50)\n",
    "        chaine_nom = f\"| Etat actif : {nom}\"\n",
    "        l = len(chaine_nom)\n",
    "        print(chaine_nom + \" \"*(49-l) + \"|\")\n",
    "        if choix :\n",
    "            chaine_choix = f\"| choix possibles pour l'état {etat_actif.state}:\"\n",
    "            l = len(chaine_choix)\n",
    "            print(chaine_choix + \" \"*(49-l) + \"|\")\n",
    "\n",
    "            chaine_transi = f\"| {list(etat_actif.transitions_with_action.keys())}\"\n",
    "            l = len(chaine_transi)\n",
    "            print(chaine_transi + \" \"*(49-l) + \"|\")\n",
    "\n",
    "            chaine_action = f\"| choix de l'action  :\"\n",
    "            l = len(chaine_action)\n",
    "            print(chaine_action + \" \"*(49-l) + \"|\")\n",
    "            time.sleep(0.5)\n",
    "            choix = input()\n",
    "            while choix not in list(etat_actif.transitions_with_action.keys()): # on vérifie que l'action choisie est valide\n",
    "                choix = input()\n",
    "                if choix == \"stop\": # permet d'arrêter le programme à la main\n",
    "                    break\n",
    "            chaine_choix = f\"| Vous avez choisi l'action {choix}\"\n",
    "            l = len(chaine_choix)\n",
    "            print(chaine_choix + \" \"*(49-l) + \"|\")\n",
    "\n",
    "        elif reward:\n",
    "            chaine_choix = f\"| Récompense pour l'état {etat_actif.state}:\"\n",
    "            l = len(chaine_choix)\n",
    "            print(chaine_choix + \" \"*(49-l) + \"|\")\n",
    "            time.sleep(0.5)\n",
    "            choix = input()\n",
    "            chaine_rec = f\"| Vous avez choisi : {choix}\"\n",
    "            l = len(chaine_rec)\n",
    "            print(chaine_rec + \" \"*(49-l) + \"|\")\n",
    "\n",
    "            \n",
    "        print(\"-\"*50)\n",
    "        print(\"\\n\")   \n",
    "        return choix    \n",
    "\n",
    "    def parcours(self,N, without_action = False, positionnel = False, n_pos = False): # on parcours la chaine (en faisant N étapes)\n",
    "        \"\"\" \n",
    "        On parcours la chaine en faisant N étapes\n",
    "        \n",
    "        Args\n",
    "        ----\n",
    "        N : int\n",
    "            Nombre d'étapes\n",
    "        without_action : bool\n",
    "            Si on fait un parcours sans actions (c'est à dire que la chaine ne possède pas d'actions)\n",
    "        positionnel : bool\n",
    "            Si on fait un parcours avec un adversaire positionnel\n",
    "        n_pos : int\n",
    "            Si on fait un parcours avec un adversaire non positionnel\n",
    "        \"\"\"\n",
    "\n",
    "\n",
    "\n",
    "        etat_initial = self.liste_states[0] #état initial : premier élément\n",
    "        etat_actif = self.states[etat_initial] # on prend l'objet correspondant à l'état initial\n",
    "        reward_total = 0\n",
    "\n",
    "        if without_action:\n",
    "        # On vérifie qu'on ne choisit pas le mode \"sans actions\" alors qu'il y en a\n",
    "            for state in self.states:\n",
    "                if len(self.states[state].transitions_with_action) != 0:\n",
    "                    print(\"Error : il y a des transitions avec actions, il faut choisir le mode avec actions\")\n",
    "                    return\n",
    "\n",
    "\n",
    "            for i in range(N):\n",
    "                markov.affichage_etat(self, etat_actif)\n",
    "                # print(etat_actif.state) # on affiche l'état en cours\n",
    "                poids = etat_actif.transitions_without_action[\"weights\"]\n",
    "                poids_total = np.sum(poids)\n",
    "                poids = poids/poids_total # on normalise les poids pour qu'ils soient entre 0 et 1\n",
    "                poids = np.cumsum(poids) # on fait la somme cumulée des poids, afin de pouvoir faire un tirage aléatoire (il ne faut pas que par exemple les deux probas soient de 0.5, il en faut une de 0.5 et l'autre de 1)\n",
    "\n",
    "                choix = random.random() # tirage aléatoire entre 0 et 1\n",
    "\n",
    "                for j in range(len(poids)): # on recherche l'état cible\n",
    "                    if choix <= poids[j]:\n",
    "                        reward_total += etat_actif.reward\n",
    "                        etat_actif = self.states[etat_actif.transitions_without_action[\"targets\"][j]]\n",
    "                        break\n",
    "\n",
    "        elif positionnel == True or n_pos == True: # adversaire positionnel\n",
    "            if positionnel :\n",
    "                print(\"Choix d'un adversaire positionnel\")\n",
    "                adv_pos = {} # contient pour chaque état, le choix de l'adversaire\n",
    "                for state in self.states :\n",
    "                    etat = self.states[state]\n",
    "                    if etat.transitions_with_action != {} : # si l'état possèdes des transitions avec actions\n",
    "                        action = markov.affichage_etat(self, etat, choix = True)\n",
    "                        adv_pos[state] = action\n",
    "\n",
    "            for i in range(N):\n",
    "                if etat_actif.transitions_with_action == {} : # si l'état n'a pas de transitions avec actions :\n",
    "                    markov.affichage_etat(self, etat_actif)\n",
    "                    poids = etat_actif.transitions_without_action[\"weights\"]\n",
    "\n",
    "                    poids_total = np.sum(poids)\n",
    "                    poids = poids/poids_total # on normalise les poids pour qu'ils soient entre 0 et 1\n",
    "                    poids = np.cumsum(poids) # on fait la somme cumulée des poids, afin de pouvoir faire un tirage aléatoire (il ne faut pas que par exemple les deux probas soient de 0.5, il en faut une de 0.5 et l'autre de 1)\n",
    "\n",
    "                    choix = random.random() # tirage aléatoire entre 0 et 1\n",
    "\n",
    "                    for j in range(len(poids)): # on recherche l'état cible\n",
    "                        if choix <= poids[j]:\n",
    "                            reward_total += etat_actif.reward\n",
    "                            etat_actif = self.states[etat_actif.transitions_without_action[\"targets\"][j]]\n",
    "                            break\n",
    "                else :\n",
    "                    if n_pos == True :\n",
    "                        action_choisie = markov.affichage_etat(self, etat_actif, choix =True)\n",
    "                    else :\n",
    "                        action_choisie = adv_pos[etat_actif.state]\n",
    "                        print(f\"Action choisie : {action_choisie}\")\n",
    "                        markov.affichage_etat(self, etat_actif)\n",
    "                    poids = etat_actif.transitions_with_action[action_choisie][\"weights\"] # on ne prend que les poids de l'action choisie par l'adversaire\n",
    "                    poids_total = np.sum(poids)\n",
    "                    poids = poids/poids_total # on normalise les poids pour qu'ils soient entre 0 et 1\n",
    "                    poids = np.cumsum(poids) # on fait la somme cumulée des poids, afin de pouvoir faire un tirage aléatoire (il ne faut pas que par exemple les deux probas soient de 0.5, il en faut une de 0.5 et l'autre de 1)\n",
    "\n",
    "                    choix = random.random() # tirage aléatoire entre 0 et 1\n",
    "\n",
    "                    for j in range(len(poids)): # on recherche l'état cible\n",
    "                        if choix <= poids[j]:\n",
    "                            reward_total += etat_actif.reward\n",
    "                            etat_actif = self.states[etat_actif.transitions_with_action[action_choisie][\"targets\"][j]]\n",
    "                            break\n",
    "        print(f\"Reward total : {reward_total}\")\n",
    "\n",
    "    def __repr__(self):\n",
    "        return (f\"States : {self.states} \\n Actions : {self.actions}\")"
   ]
  },
  {
   "cell_type": "code",
<<<<<<< Updated upstream
   "execution_count": 50,
=======
   "execution_count": 20,
>>>>>>> Stashed changes
   "metadata": {},
   "outputs": [
    {
     "name": "stdout",
     "output_type": "stream",
     "text": [
      "Warning : une action est déclarée mais n'est pas utilisée\n",
<<<<<<< Updated upstream
      "Warning : l'action c est utilisée mais n'est pas déclarée\n",
=======
>>>>>>> Stashed changes
      "\n",
      " Écrire ok pour contiuer\n",
      "-------------------------\n",
      "\n",
      "Souhaitez-vous ajouter des récompenses aux états ? (y/n)\n",
<<<<<<< Updated upstream
      "--------------------------------------------------\n",
      "| Etat actif : S0                                |\n",
      "| Récompense pour l'état S0:                     |\n",
      "| Vous avez choisi : 1                           |\n",
      "--------------------------------------------------\n",
      "\n",
      "\n",
      "--------------------------------------------------\n",
      "| Etat actif : S1                                |\n",
      "| Récompense pour l'état S1:                     |\n",
      "| Vous avez choisi : 3                           |\n",
      "--------------------------------------------------\n",
      "\n",
      "\n",
      "--------------------------------------------------\n",
      "| Etat actif : S2                                |\n",
      "| Récompense pour l'état S2:                     |\n",
      "| Vous avez choisi : 4.2                         |\n",
      "--------------------------------------------------\n",
      "\n",
      "\n",
      "Choix d'un adversaire positionnel\n",
      "--------------------------------------------------\n",
      "| Etat actif : S1                                |\n",
      "| choix possibles pour l'état S1:                |\n",
      "| ['b', 'a']                                     |\n",
      "| choix de l'action  :                           |\n",
      "| Vous avez choisi l'action b                    |\n",
      "--------------------------------------------------\n",
      "\n",
      "\n",
      "--------------------------------------------------\n",
      "| Etat actif : S2                                |\n",
      "| choix possibles pour l'état S2:                |\n",
      "| ['c']                                          |\n",
      "| choix de l'action  :                           |\n",
      "| Vous avez choisi l'action c                    |\n",
      "--------------------------------------------------\n",
      "\n",
      "\n",
      "--------------------------------------------------\n",
      "| Etat actif : S0                                |\n",
      "--------------------------------------------------\n",
      "\n",
      "\n",
      "Action choisie : b\n",
      "--------------------------------------------------\n",
      "| Etat actif : S1                                |\n",
      "--------------------------------------------------\n",
      "\n",
      "\n",
      "Action choisie : b\n",
      "--------------------------------------------------\n",
      "| Etat actif : S1                                |\n",
      "--------------------------------------------------\n",
      "\n",
      "\n",
      "--------------------------------------------------\n",
      "| Etat actif : S0                                |\n",
      "--------------------------------------------------\n",
      "\n",
      "\n",
      "Action choisie : c\n",
      "--------------------------------------------------\n",
      "| Etat actif : S2                                |\n",
      "--------------------------------------------------\n",
      "\n",
      "\n",
      "--------------------------------------------------\n",
      "| Etat actif : S0                                |\n",
      "--------------------------------------------------\n",
      "\n",
      "\n",
      "Action choisie : c\n",
      "--------------------------------------------------\n",
      "| Etat actif : S2                                |\n",
      "--------------------------------------------------\n",
      "\n",
      "\n",
      "--------------------------------------------------\n",
      "| Etat actif : S0                                |\n",
      "--------------------------------------------------\n",
      "\n",
      "\n",
      "Action choisie : c\n",
      "--------------------------------------------------\n",
      "| Etat actif : S2                                |\n",
      "--------------------------------------------------\n",
      "\n",
      "\n",
      "Action choisie : b\n",
      "--------------------------------------------------\n",
      "| Etat actif : S1                                |\n",
      "--------------------------------------------------\n",
      "\n",
      "\n",
      "Reward total : 25.599999999999998\n"
=======
      "Choix d'un adversaire positionnel\n",
      "choix possibles pour l'état S1:\n",
      "dict_keys(['b', 'a'])\n",
      "choix de l'action pour l'état S1:\n",
      "a\n",
      "choix possibles pour l'état S2:\n",
      "dict_keys(['c'])\n",
      "choix de l'action pour l'état S2:\n",
      "c\n",
      "{'S1': 'a', 'S2': 'c'}\n",
      "S0\n"
     ]
    },
    {
     "name": "stderr",
     "output_type": "stream",
     "text": [
      "C:\\Users\\maila\\AppData\\Local\\Temp\\ipykernel_5360\\1148133137.py:305: DeprecationWarning: Starting with ImageIO v3 the behavior of this function will switch to that of iio.v3.imread. To keep the current behavior (and make this warning disappear) use `import imageio.v2 as imageio` or call `imageio.v2.imread` directly.\n",
      "  images.append(imageio.imread('image'+str(i+1)+'.png'))\n"
     ]
    },
    {
     "name": "stdout",
     "output_type": "stream",
     "text": [
      "S1\n",
      "Action choisie : a\n",
      "S1\n",
      "Action choisie : a\n",
      "S0\n",
      "S1\n",
      "Action choisie : a\n",
      "S1\n",
      "Action choisie : a\n",
      "S1\n",
      "Action choisie : a\n",
      "S0\n",
      "S2\n",
      "Action choisie : c\n",
      "S0\n"
>>>>>>> Stashed changes
     ]
    }
   ],
   "source": [
    "# States(L['States'][1], 0, L['Transitions_with_action'], L['Transitions_without_action'])\n",
    "\n",
    "M = markov(L['States'], L['Actions'], L['Transitions_with_action'], L['Transitions_without_action'])\n",
    "\n",
<<<<<<< Updated upstream
    "# M.parcours(10, without_action = True)\n",
    "M.parcours(10,positionnel=True)\n"
=======
    "M.parcours(10, positionnel = True)\n",
    "#M.simulation(10, initial_state = \"S0\", mode_adv = \"random\")\n"
>>>>>>> Stashed changes
   ]
  },
  {
   "cell_type": "code",
   "execution_count": 99,
   "metadata": {},
   "outputs": [],
   "source": [
    "# On affiche les données récupérées sous forme de graphique avec graphviz\n",
    "import graphviz as gv\n",
    "def afficher(L):\n",
    "    # On récupère les données\n",
    "    States = L['States']\n",
    "    Actions = L['Actions']\n",
    "    Transitions_with_action = L['Transitions_with_action']\n",
    "    Transitions_without_action = L['Transitions_without_action']\n",
    "\n",
    "    # On crée le graphique\n",
    "    G = gv.Digraph(format='png')\n",
    "\n",
    "    # On ajoute les états\n",
    "    for state in States:\n",
    "        G.node(state)\n",
    "\n",
    "    # On ajoute les transitions sans action\n",
    "    for transition in Transitions_without_action:\n",
    "        for i in range(len(Transitions_without_action[transition]['targets'])):\n",
    "            G.edge(Transitions_without_action[transition]['from'],Transitions_without_action[transition]['targets'][i], label = str(Transitions_without_action[transition]['weights'][i])) \n",
    "\n",
    "    # On ajoute les transitions avec action\n",
    "    for transition in Transitions_with_action:\n",
    "        for i in range(len(Transitions_with_action[transition]['targets'])):\n",
    "            G.edge(Transitions_with_action[transition]['from'],Transitions_with_action[transition]['targets'][i], label = str(Transitions_with_action[transition]['weights'][i]) + str(Transitions_with_action[transition]['action']))\n",
    "    # On affiche le graphique\n",
    "    return G"
   ]
  },
  {
   "cell_type": "code",
   "execution_count": 100,
   "metadata": {},
   "outputs": [
    {
     "data": {
      "image/svg+xml": "<?xml version=\"1.0\" encoding=\"UTF-8\" standalone=\"no\"?>\n<!DOCTYPE svg PUBLIC \"-//W3C//DTD SVG 1.1//EN\"\n \"http://www.w3.org/Graphics/SVG/1.1/DTD/svg11.dtd\">\n<!-- Generated by graphviz version 5.0.1 (20220820.1526)\n -->\n<!-- Pages: 1 -->\n<svg width=\"113pt\" height=\"392pt\"\n viewBox=\"0.00 0.00 112.88 392.00\" xmlns=\"http://www.w3.org/2000/svg\" xmlns:xlink=\"http://www.w3.org/1999/xlink\">\n<g id=\"graph0\" class=\"graph\" transform=\"scale(1 1) rotate(0) translate(4 388)\">\n<polygon fill=\"white\" stroke=\"none\" points=\"-4,4 -4,-388 108.88,-388 108.88,4 -4,4\"/>\n<!-- S0 -->\n<g id=\"node1\" class=\"node\">\n<title>S0</title>\n<ellipse fill=\"none\" stroke=\"black\" cx=\"45.88\" cy=\"-366\" rx=\"27\" ry=\"18\"/>\n<text text-anchor=\"middle\" x=\"45.88\" y=\"-362.3\" font-family=\"Times,serif\" font-size=\"14.00\">S0</text>\n</g>\n<!-- S1 -->\n<g id=\"node2\" class=\"node\">\n<title>S1</title>\n<ellipse fill=\"none\" stroke=\"black\" cx=\"45.88\" cy=\"-105\" rx=\"27\" ry=\"18\"/>\n<text text-anchor=\"middle\" x=\"45.88\" y=\"-101.3\" font-family=\"Times,serif\" font-size=\"14.00\">S1</text>\n</g>\n<!-- S0&#45;&gt;S1 -->\n<g id=\"edge1\" class=\"edge\">\n<title>S0&#45;&gt;S1</title>\n<path fill=\"none\" stroke=\"black\" d=\"M34.79,-349.42C26.09,-336.18 14.68,-316.32 9.88,-297 -3.29,-243.95 -3.29,-227.05 9.88,-174 13.74,-158.46 21.88,-142.56 29.45,-130.04\"/>\n<polygon fill=\"black\" stroke=\"black\" points=\"32.41,-131.91 34.79,-121.58 26.49,-128.17 32.41,-131.91\"/>\n<text text-anchor=\"middle\" x=\"4.38\" y=\"-231.8\" font-family=\"Times,serif\" font-size=\"14.00\">5</text>\n</g>\n<!-- S2 -->\n<g id=\"node3\" class=\"node\">\n<title>S2</title>\n<ellipse fill=\"none\" stroke=\"black\" cx=\"45.88\" cy=\"-279\" rx=\"27\" ry=\"18\"/>\n<text text-anchor=\"middle\" x=\"45.88\" y=\"-275.3\" font-family=\"Times,serif\" font-size=\"14.00\">S2</text>\n</g>\n<!-- S0&#45;&gt;S2 -->\n<g id=\"edge2\" class=\"edge\">\n<title>S0&#45;&gt;S2</title>\n<path fill=\"none\" stroke=\"black\" d=\"M45.88,-347.8C45.88,-336.16 45.88,-320.55 45.88,-307.24\"/>\n<polygon fill=\"black\" stroke=\"black\" points=\"49.38,-307.18 45.88,-297.18 42.38,-307.18 49.38,-307.18\"/>\n<text text-anchor=\"middle\" x=\"49.38\" y=\"-318.8\" font-family=\"Times,serif\" font-size=\"14.00\">5</text>\n</g>\n<!-- S1&#45;&gt;S0 -->\n<g id=\"edge3\" class=\"edge\">\n<title>S1&#45;&gt;S0</title>\n<path fill=\"none\" stroke=\"black\" d=\"M56.98,-121.58C65.68,-134.82 77.09,-154.68 81.88,-174 95.06,-227.05 95.06,-243.95 81.88,-297 78.02,-312.54 69.88,-328.44 62.32,-340.96\"/>\n<polygon fill=\"black\" stroke=\"black\" points=\"59.35,-339.09 56.98,-349.42 65.27,-342.83 59.35,-339.09\"/>\n<text text-anchor=\"middle\" x=\"94.38\" y=\"-231.8\" font-family=\"Times,serif\" font-size=\"14.00\">5</text>\n</g>\n<!-- S3 -->\n<g id=\"node4\" class=\"node\">\n<title>S3</title>\n<ellipse fill=\"none\" stroke=\"black\" cx=\"45.88\" cy=\"-18\" rx=\"27\" ry=\"18\"/>\n<text text-anchor=\"middle\" x=\"45.88\" y=\"-14.3\" font-family=\"Times,serif\" font-size=\"14.00\">S3</text>\n</g>\n<!-- S1&#45;&gt;S3 -->\n<g id=\"edge4\" class=\"edge\">\n<title>S1&#45;&gt;S3</title>\n<path fill=\"none\" stroke=\"black\" d=\"M45.88,-86.8C45.88,-75.16 45.88,-59.55 45.88,-46.24\"/>\n<polygon fill=\"black\" stroke=\"black\" points=\"49.38,-46.18 45.88,-36.18 42.38,-46.18 49.38,-46.18\"/>\n<text text-anchor=\"middle\" x=\"49.38\" y=\"-57.8\" font-family=\"Times,serif\" font-size=\"14.00\">5</text>\n</g>\n<!-- S4 -->\n<g id=\"node5\" class=\"node\">\n<title>S4</title>\n<ellipse fill=\"none\" stroke=\"black\" cx=\"45.88\" cy=\"-192\" rx=\"27\" ry=\"18\"/>\n<text text-anchor=\"middle\" x=\"45.88\" y=\"-188.3\" font-family=\"Times,serif\" font-size=\"14.00\">S4</text>\n</g>\n<!-- S2&#45;&gt;S4 -->\n<g id=\"edge6\" class=\"edge\">\n<title>S2&#45;&gt;S4</title>\n<path fill=\"none\" stroke=\"black\" d=\"M45.88,-260.8C45.88,-249.16 45.88,-233.55 45.88,-220.24\"/>\n<polygon fill=\"black\" stroke=\"black\" points=\"49.38,-220.18 45.88,-210.18 42.38,-220.18 49.38,-220.18\"/>\n<text text-anchor=\"middle\" x=\"52.88\" y=\"-231.8\" font-family=\"Times,serif\" font-size=\"14.00\">10</text>\n</g>\n<!-- S3&#45;&gt;S3 -->\n<g id=\"edge5\" class=\"edge\">\n<title>S3&#45;&gt;S3</title>\n<path fill=\"none\" stroke=\"black\" d=\"M70.42,-25.75C81.39,-26.49 90.88,-23.91 90.88,-18 90.88,-14.03 86.6,-11.56 80.46,-10.59\"/>\n<polygon fill=\"black\" stroke=\"black\" points=\"80.53,-7.09 70.42,-10.25 80.29,-14.09 80.53,-7.09\"/>\n<text text-anchor=\"middle\" x=\"97.88\" y=\"-14.3\" font-family=\"Times,serif\" font-size=\"14.00\">10</text>\n</g>\n<!-- S4&#45;&gt;S1 -->\n<g id=\"edge7\" class=\"edge\">\n<title>S4&#45;&gt;S1</title>\n<path fill=\"none\" stroke=\"black\" d=\"M45.88,-173.8C45.88,-162.16 45.88,-146.55 45.88,-133.24\"/>\n<polygon fill=\"black\" stroke=\"black\" points=\"49.38,-133.18 45.88,-123.18 42.38,-133.18 49.38,-133.18\"/>\n<text text-anchor=\"middle\" x=\"52.88\" y=\"-144.8\" font-family=\"Times,serif\" font-size=\"14.00\">10</text>\n</g>\n</g>\n</svg>\n",
      "text/plain": [
       "<graphviz.graphs.Digraph at 0x11085fb20>"
      ]
     },
     "execution_count": 100,
     "metadata": {},
     "output_type": "execute_result"
    }
   ],
   "source": [
    "afficher(L)"
   ]
  },
  {
   "cell_type": "code",
   "execution_count": 106,
   "metadata": {},
   "outputs": [
    {
     "data": {
      "text/plain": [
       "{0: {'from': 'S0', 'targets': [1, 2], 'weights': [5, 5]},\n",
       " 1: {'from': 'S1', 'targets': [0, 3], 'weights': [5, 5]},\n",
       " 2: {'from': 'S3', 'targets': [3], 'weights': [10]},\n",
       " 3: {'from': 'S2', 'targets': [4], 'weights': [10]},\n",
       " 4: {'from': 'S4', 'targets': [1], 'weights': [10]}}"
      ]
     },
     "execution_count": 106,
     "metadata": {},
     "output_type": "execute_result"
    }
   ],
   "source": [
    "L['Transitions_without_action']"
   ]
  },
  {
   "cell_type": "code",
   "execution_count": 121,
   "metadata": {},
   "outputs": [],
   "source": [
    "import networkx as nx\n",
    "from networkx.drawing.nx_agraph import to_agraph\n",
    "import numpy as np\n",
    "import imageio\n",
    "import os\n",
    "import copy\n",
    "def visu_animation(L):\n",
    "  # Do not modify original data\n",
    "  L_2 = copy.deepcopy(L)\n",
    "  #Markov chain parameters\n",
    "  states = []\n",
    "  for i in range (len(L_2['States'])):\n",
    "    states.append(i)\n",
    "  \n",
    "  for i in range (len(L_2['States'])):\n",
    "      for j in range(len(L_2['Transitions_without_action'][i]['targets'])):\n",
    "        L_2['Transitions_without_action'][i]['targets'][j]= int(L_2['Transitions_without_action'][i]['targets'][j][1:])\n",
    "  print(L_2['Transitions_without_action'])\n",
    "        \n",
    "\n",
    "  Q = []\n",
    "  for i in range (len(L_2['States'])):\n",
    "    Q.append([])\n",
    "    for j in range (len(L_2['States'])):\n",
    "      if j not in L_2['Transitions_without_action'][i]['targets']:\n",
    "        Q[i].append(0)\n",
    "      else : \n",
    "        Q[i].append(L_2['Transitions_without_action'][i]['weights'][L_2['Transitions_without_action'][i]['targets'].index(j)]/sum(L_2['Transitions_without_action'][i]['weights']))\n",
    "\n",
    "\n",
    "  #Sampling the markov chain over 100 steps\n",
    "  N_steps=20\n",
    "  node_ind=0\n",
    "  node_sel=[node_ind]\n",
    "  for i in range(N_steps):\n",
    "    temp_ni=np.random.choice(len(states),p=Q[node_ind])\n",
    "    node_sel.append(temp_ni)\n",
    "    node_ind=temp_ni\n",
    "\n",
    "  #Setting up network\n",
    "  G = nx.MultiDiGraph()\n",
    "  [G.add_node(s,style='filled',fillcolor='white',shape='circle',fixedsize='true',width=0.5) for s in states]\n",
    "\n",
    "  labels={}\n",
    "  edge_labels={}\n",
    "\n",
    "  for i, origin_state in enumerate(states):\n",
    "      for j, destination_state in enumerate(states):\n",
    "          rate = Q[i][j]\n",
    "          if rate > 0:\n",
    "              G.add_edge(origin_state, destination_state, weight=rate, label=\"{:.02f}\".format(rate),len=2)\n",
    "  \n",
    "  #Setting up node color for each iteration     \n",
    "  for k in range(N_steps):\n",
    "    for i,n in enumerate(G.nodes(data=True)):\n",
    "      if i==node_sel[k]:\n",
    "        n[1]['fillcolor']='blue'\n",
    "      else:\n",
    "        n[1]['fillcolor']='white'\n",
    "      \n",
    "    A = to_agraph(G)\n",
    "    A.layout()\n",
    "    A.draw('net_'+str(k)+'.png')\n",
    "\n",
    "  #Create gif with imageio\n",
    "  images = []\n",
    "  filenames=['net_'+str(k)+'.png' for k in range(N_steps)]\n",
    "  for filename in filenames:\n",
    "      images.append(imageio.imread(filename))\n",
    "  imageio.mimsave('markov_chain.gif', images,fps=3)\n",
    "  # Delete images\n",
    "  for filename in filenames:\n",
    "      os.remove(filename)\n"
   ]
  },
  {
   "cell_type": "code",
   "execution_count": 122,
   "metadata": {},
   "outputs": [
    {
     "name": "stdout",
     "output_type": "stream",
     "text": [
      "{0: {'from': 'S0', 'targets': [1, 2], 'weights': [5, 5]}, 1: {'from': 'S1', 'targets': [0, 3], 'weights': [5, 5]}, 2: {'from': 'S3', 'targets': [3], 'weights': [10]}, 3: {'from': 'S2', 'targets': [4], 'weights': [10]}, 4: {'from': 'S4', 'targets': [1], 'weights': [10]}}\n"
     ]
    },
    {
     "name": "stderr",
     "output_type": "stream",
     "text": [
      "/var/folders/zp/04t34kkj27ldhv8wcvlpqz300000gn/T/ipykernel_27328/2799415721.py:69: DeprecationWarning: Starting with ImageIO v3 the behavior of this function will switch to that of iio.v3.imread. To keep the current behavior (and make this warning disappear) use `import imageio.v2 as imageio` or call `imageio.v2.imread` directly.\n",
      "  images.append(imageio.imread(filename))\n"
     ]
    }
   ],
   "source": [
    "visu_animation(L)"
   ]
  },
  {
   "cell_type": "code",
   "execution_count": 98,
   "metadata": {},
   "outputs": [],
   "source": [
    "import graphviz\n",
    "\n",
    "dot = graphviz.Digraph(comment='Processus de Décision Markoviens')\n",
    "\n",
    "for i, state in enumerate(L['States']):\n",
    "    dot.node(str(i), state)\n",
    "\n",
    "dot.edges(['02','12'])\n",
    "dot.edge('0', '1', label='test')"
   ]
  },
  {
   "cell_type": "markdown",
   "metadata": {},
   "source": [
    "Utiliser la bibliothèque graphviz pour l'affichage. \n",
    "Quelques liens utiles :\n",
    "\n",
    "Les attributs possibles pour les différentes fonctions : https://www.graphviz.org/doc/info/attrs.html\n",
    "\n",
    "Doc graphviz : https://graphviz.readthedocs.io/en/stable/manual.html"
   ]
  },
  {
   "cell_type": "code",
   "execution_count": 99,
   "metadata": {},
   "outputs": [
    {
     "name": "stdout",
     "output_type": "stream",
     "text": [
      "// Processus de Décision Markoviens\n",
      "digraph {\n",
      "\t0 [label=S0]\n",
      "\t1 [label=S1]\n",
      "\t2 [label=S2]\n",
      "\t0 -> 2\n",
      "\t1 -> 2\n",
      "\t0 -> 1 [label=test]\n",
      "}\n",
      "\n"
     ]
    }
   ],
   "source": [
    "print(dot.source)"
   ]
  },
  {
   "cell_type": "code",
   "execution_count": 100,
   "metadata": {},
   "outputs": [
    {
     "data": {
      "image/svg+xml": "<?xml version=\"1.0\" encoding=\"UTF-8\" standalone=\"no\"?>\n<!DOCTYPE svg PUBLIC \"-//W3C//DTD SVG 1.1//EN\"\n \"http://www.w3.org/Graphics/SVG/1.1/DTD/svg11.dtd\">\n<!-- Generated by graphviz version 6.0.1 (0)\n -->\n<!-- Pages: 1 -->\n<svg width=\"99pt\" height=\"204pt\"\n viewBox=\"0.00 0.00 99.00 204.00\" xmlns=\"http://www.w3.org/2000/svg\" xmlns:xlink=\"http://www.w3.org/1999/xlink\">\n<g id=\"graph0\" class=\"graph\" transform=\"scale(1 1) rotate(0) translate(4 200)\">\n<polygon fill=\"white\" stroke=\"none\" points=\"-4,4 -4,-200 95,-200 95,4 -4,4\"/>\n<!-- 0 -->\n<g id=\"node1\" class=\"node\">\n<title>0</title>\n<ellipse fill=\"none\" stroke=\"black\" cx=\"64\" cy=\"-178\" rx=\"27\" ry=\"18\"/>\n<text text-anchor=\"middle\" x=\"64\" y=\"-174.3\" font-family=\"Times New Roman,serif\" font-size=\"14.00\">S0</text>\n</g>\n<!-- 1 -->\n<g id=\"node2\" class=\"node\">\n<title>1</title>\n<ellipse fill=\"none\" stroke=\"black\" cx=\"27\" cy=\"-91\" rx=\"27\" ry=\"18\"/>\n<text text-anchor=\"middle\" x=\"27\" y=\"-87.3\" font-family=\"Times New Roman,serif\" font-size=\"14.00\">S1</text>\n</g>\n<!-- 0&#45;&gt;1 -->\n<g id=\"edge3\" class=\"edge\">\n<title>0&#45;&gt;1</title>\n<path fill=\"none\" stroke=\"black\" d=\"M56.87,-160.61C51.63,-148.58 44.4,-131.98 38.37,-118.13\"/>\n<polygon fill=\"black\" stroke=\"black\" points=\"41.44,-116.4 34.24,-108.63 35.02,-119.19 41.44,-116.4\"/>\n<text text-anchor=\"middle\" x=\"57.5\" y=\"-130.8\" font-family=\"Times New Roman,serif\" font-size=\"14.00\">test</text>\n</g>\n<!-- 2 -->\n<g id=\"node3\" class=\"node\">\n<title>2</title>\n<ellipse fill=\"none\" stroke=\"black\" cx=\"54\" cy=\"-18\" rx=\"27\" ry=\"18\"/>\n<text text-anchor=\"middle\" x=\"54\" y=\"-14.3\" font-family=\"Times New Roman,serif\" font-size=\"14.00\">S2</text>\n</g>\n<!-- 0&#45;&gt;2 -->\n<g id=\"edge1\" class=\"edge\">\n<title>0&#45;&gt;2</title>\n<path fill=\"none\" stroke=\"black\" d=\"M66.34,-159.94C67.02,-154.25 67.67,-147.86 68,-142 69.88,-108.92 64.42,-71.07 59.78,-46.19\"/>\n<polygon fill=\"black\" stroke=\"black\" points=\"63.15,-45.2 57.79,-36.06 56.28,-46.55 63.15,-45.2\"/>\n</g>\n<!-- 1&#45;&gt;2 -->\n<g id=\"edge2\" class=\"edge\">\n<title>1&#45;&gt;2</title>\n<path fill=\"none\" stroke=\"black\" d=\"M33.4,-73.17C36.56,-64.86 40.45,-54.64 43.99,-45.33\"/>\n<polygon fill=\"black\" stroke=\"black\" points=\"47.36,-46.3 47.65,-35.71 40.82,-43.81 47.36,-46.3\"/>\n</g>\n</g>\n</svg>\n",
      "text/plain": [
       "<graphviz.graphs.Digraph at 0x26ae4909c00>"
      ]
     },
     "execution_count": 100,
     "metadata": {},
     "output_type": "execute_result"
    }
   ],
   "source": [
    "dot"
   ]
  },
  {
   "cell_type": "markdown",
   "metadata": {},
   "source": [
    "# Calculer proba arriver dans un état final"
   ]
  },
  {
   "cell_type": "code",
   "execution_count": 130,
   "metadata": {},
   "outputs": [],
   "source": [
    "def calcul_etat(L, initial_state, nb_iterations):   \n",
    "    # From an initial state, calculate the probability of being in each state after nb_iterations\n",
    "    # L : dictionnary of the markov chain\n",
    "    # initial_state : initial state\n",
    "    # nb_iterations : number of iterations\n",
    "    # return : dictionnary of the probability of being in each state after nb_iterations\n",
    "\n",
    "    # Initialisation\n",
    "    states = L['States']\n",
    "    transitions_without_action = L['Transitions_without_action']\n",
    "    \n",
    "    # Transform weights into probabilities\n",
    "    for transition in transitions_without_action:\n",
    "        transitions_without_action[transition]['weights'] = [weight / sum(transitions_without_action[transition]['weights']) for weight in transitions_without_action[transition]['weights']]\n",
    "        \n",
    "\n",
    "    # Probability of being in each state after nb_iterations\n",
    "    proba = {}\n",
    "    for state in states:\n",
    "        proba[state] = 0\n",
    "    proba[initial_state] = 1\n",
    "\n",
    "    # Calculate the probability of being in each state after nb_iterations\n",
    "    for i in range(nb_iterations):\n",
    "        for state in states:\n",
    "            proba[state] = sum([proba[transitions_without_action[transition]['from']] * transitions_without_action[transition]['weights'][i] for transition in transitions_without_action for i in range(len(transitions_without_action[transition]['targets'])) if transitions_without_action[transition]['targets'][i] == state])\n",
    "\n",
    "    return proba\n",
    "    "
   ]
  },
  {
   "cell_type": "code",
   "execution_count": 131,
   "metadata": {},
   "outputs": [
    {
     "data": {
      "text/plain": [
       "{'S0': 0.0, 'S1': 0.0, 'S2': 0.0, 'S3': 0.0, 'S4': 0.0}"
      ]
     },
     "execution_count": 131,
     "metadata": {},
     "output_type": "execute_result"
    }
   ],
   "source": [
    "calcul_etat(L, 'S0', 50)"
   ]
  }
 ],
 "metadata": {
  "kernelspec": {
   "display_name": "Python 3 (ipykernel)",
   "language": "python",
   "name": "python3"
  },
  "language_info": {
   "codemirror_mode": {
    "name": "ipython",
    "version": 3
   },
   "file_extension": ".py",
   "mimetype": "text/x-python",
   "name": "python",
   "nbconvert_exporter": "python",
   "pygments_lexer": "ipython3",
   "version": "3.10.6"
  },
  "vscode": {
   "interpreter": {
    "hash": "40f7c2dd250ea64d1f119704b8cfa97c376b5923eda5d57d2493e68729089b32"
   }
  }
 },
 "nbformat": 4,
 "nbformat_minor": 2
}
